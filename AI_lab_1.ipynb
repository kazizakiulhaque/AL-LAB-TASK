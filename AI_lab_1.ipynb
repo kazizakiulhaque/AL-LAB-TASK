{
  "nbformat": 4,
  "nbformat_minor": 0,
  "metadata": {
    "colab": {
      "provenance": [],
      "authorship_tag": "ABX9TyM12oRD9WwpkMBwds9FN4aS",
      "include_colab_link": true
    },
    "kernelspec": {
      "name": "python3",
      "display_name": "Python 3"
    },
    "language_info": {
      "name": "python"
    }
  },
  "cells": [
    {
      "cell_type": "markdown",
      "metadata": {
        "id": "view-in-github",
        "colab_type": "text"
      },
      "source": [
        "<a href=\"https://colab.research.google.com/github/kazizakiulhaque/AL-LAB-TASK/blob/main/AI_lab_1.ipynb\" target=\"_parent\"><img src=\"https://colab.research.google.com/assets/colab-badge.svg\" alt=\"Open In Colab\"/></a>"
      ]
    },
    {
      "cell_type": "code",
      "execution_count": 1,
      "metadata": {
        "colab": {
          "base_uri": "https://localhost:8080/"
        },
        "id": "6pmuxcR3TF1h",
        "outputId": "1e96e9f7-4c7a-4052-da1c-54eb22f4d6f6"
      },
      "outputs": [
        {
          "output_type": "stream",
          "name": "stdout",
          "text": [
            "['Beximco', 'Grameenphone', 'ACI limited', 'Square group', 'Akij', 'bashundhara', 'Jamuna']\n",
            "7\n",
            "<class 'list'>\n",
            "Grameenphone\n",
            "Jamuna\n",
            "['ACI limited', 'Square group', 'Akij']\n",
            "['Beximco', 'Grameenphone', 'ACI limited', 'Square group']\n",
            "['ACI limited', 'Square group', 'Akij', 'bashundhara', 'Jamuna']\n"
          ]
        }
      ],
      "source": [
        "thislist = [\"Beximco\", \"Grameenphone\", \"ACI limited\", \"Square group\", \"Akij\", \"bashundhara\", \"Jamuna\"]\n",
        "print(thislist)\n",
        "print(len(thislist))\n",
        "print(type(thislist))\n",
        "print(thislist[1])\n",
        "print(thislist[-1])\n",
        "print(thislist[2:5])\n",
        "print(thislist[:4])\n",
        "print(thislist[2:])"
      ]
    },
    {
      "cell_type": "code",
      "source": [
        "a = (\"a\", \"b\", \"c\", \"d\", \"e\", \"f\", \"g\", \"h\")\n",
        "x = slice(3, 5)\n",
        "print(a[x])\n",
        "\n",
        "x = slice(0, 8, 3)\n",
        "print(a[x])"
      ],
      "metadata": {
        "colab": {
          "base_uri": "https://localhost:8080/"
        },
        "id": "f0CML2-kTwTn",
        "outputId": "ba213ad2-842e-4f32-8218-76c921e52701"
      },
      "execution_count": 4,
      "outputs": [
        {
          "output_type": "stream",
          "name": "stdout",
          "text": [
            "('d', 'e')\n",
            "('a', 'd', 'g')\n"
          ]
        }
      ]
    },
    {
      "cell_type": "code",
      "source": [
        "f= open(\"/content/Abir.txt\")\n",
        "f = open(\"/content/Abir.txt\", \"r\")\n",
        "print(f.read())\n",
        "\n"
      ],
      "metadata": {
        "colab": {
          "base_uri": "https://localhost:8080/"
        },
        "id": "nrA5hM7lTzHn",
        "outputId": "249f515d-4e1b-49a3-8cf9-242a52360541"
      },
      "execution_count": 5,
      "outputs": [
        {
          "output_type": "stream",
          "name": "stdout",
          "text": [
            "writewrite\n"
          ]
        }
      ]
    },
    {
      "cell_type": "code",
      "source": [
        "f = open(\"/content/Abir.txt\", \"a\")\n",
        "f.write(\"write\")\n",
        "f.close()\n",
        "\n",
        "\n",
        "f = open(\"/content/Abir.txt\", \"r\")\n",
        "print(f.read())"
      ],
      "metadata": {
        "colab": {
          "base_uri": "https://localhost:8080/"
        },
        "id": "ry11d50dUK-Q",
        "outputId": "049f613a-5077-418f-aa16-5e57983c8b69"
      },
      "execution_count": 3,
      "outputs": [
        {
          "output_type": "stream",
          "name": "stdout",
          "text": [
            "writewrite\n"
          ]
        }
      ]
    }
  ]
}