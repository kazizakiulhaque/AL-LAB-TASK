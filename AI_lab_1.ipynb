{
  "nbformat": 4,
  "nbformat_minor": 0,
  "metadata": {
    "colab": {
      "provenance": [],
      "authorship_tag": "ABX9TyNlW2LaLOSxiie4idMQOn3o",
      "include_colab_link": true
    },
    "kernelspec": {
      "name": "python3",
      "display_name": "Python 3"
    },
    "language_info": {
      "name": "python"
    }
  },
  "cells": [
    {
      "cell_type": "markdown",
      "metadata": {
        "id": "view-in-github",
        "colab_type": "text"
      },
      "source": [
        "<a href=\"https://colab.research.google.com/github/kazizakiulhaque/AL-LAB-TASK/blob/main/AI_lab_1.ipynb\" target=\"_parent\"><img src=\"https://colab.research.google.com/assets/colab-badge.svg\" alt=\"Open In Colab\"/></a>"
      ]
    },
    {
      "cell_type": "code",
      "execution_count": null,
      "metadata": {
        "colab": {
          "base_uri": "https://localhost:8080/"
        },
        "id": "6pmuxcR3TF1h",
        "outputId": "6f7c12e1-0247-4c70-ff7d-e448ac62b4bb"
      },
      "outputs": [
        {
          "output_type": "stream",
          "name": "stdout",
          "text": [
            "['iphone', 'samsung', 'oneplus', 'walton', 'redmi', 'sony', 'symphony']\n",
            "7\n",
            "<class 'list'>\n",
            "samsung\n",
            "symphony\n",
            "['oneplus', 'walton', 'redmi']\n",
            "['iphone', 'samsung', 'oneplus', 'walton']\n",
            "['oneplus', 'walton', 'redmi', 'sony', 'symphony']\n"
          ]
        }
      ],
      "source": [
        "thislist = [\"iphone\", \"samsung\", \"oneplus\", \"walton\", \"redmi\", \"sony\", \"symphony\"]\n",
        "print(thislist)\n",
        "print(len(thislist))    #determining length\n",
        "print(type(thislist))   #determining type\n",
        "print(thislist[1])      #no.1 index\n",
        "print(thislist[-1])     #last index\n",
        "print(thislist[2:5])    #from index 2, before index 5.\n",
        "print(thislist[:4])     #from starting to before index 4\n",
        "print(thislist[2:])     #from index 2 to end"
      ]
    },
    {
      "cell_type": "code",
      "source": [
        "thislist = [\"iphone\", \"samsung\", \"oneplus\", \"walton\", \"redmi\", \"sony\", \"symphony\"]\n",
        "print(thislist)\n",
        "print(len(thislist))    #determining length\n",
        "print(type(thislist))   #determining type\n",
        "print(thislist[1])      #no.1 index\n",
        "print(thislist[-1])     #last index\n",
        "print(thislist[2:5])    #from index 2, before index 5.\n",
        "print(thislist[:4])     #from starting to before index 4\n",
        "print(thislist[2:])     #from index 2 to end"
      ],
      "metadata": {
        "colab": {
          "base_uri": "https://localhost:8080/"
        },
        "id": "TXmWxQLoTq-Y",
        "outputId": "d6d953ab-7eca-4f90-9431-3573d73efa8e"
      },
      "execution_count": null,
      "outputs": [
        {
          "output_type": "stream",
          "name": "stdout",
          "text": [
            "['iphone', 'samsung', 'oneplus', 'walton', 'redmi', 'sony', 'symphony']\n",
            "7\n",
            "<class 'list'>\n",
            "samsung\n",
            "symphony\n",
            "['oneplus', 'walton', 'redmi']\n",
            "['iphone', 'samsung', 'oneplus', 'walton']\n",
            "['oneplus', 'walton', 'redmi', 'sony', 'symphony']\n"
          ]
        }
      ]
    },
    {
      "cell_type": "code",
      "source": [
        "a = (\"a\", \"b\", \"c\", \"d\", \"e\", \"f\", \"g\", \"h\")\n",
        "x = slice(3, 5)\n",
        "print(a[x])\n",
        "\n",
        "x = slice(0, 8, 3)\n",
        "print(a[x])"
      ],
      "metadata": {
        "colab": {
          "base_uri": "https://localhost:8080/"
        },
        "id": "f0CML2-kTwTn",
        "outputId": "2cf38790-bb10-4f48-a871-b856e541d8f2"
      },
      "execution_count": null,
      "outputs": [
        {
          "output_type": "stream",
          "name": "stdout",
          "text": [
            "('d', 'e')\n",
            "('a', 'd', 'g')\n"
          ]
        }
      ]
    },
    {
      "cell_type": "code",
      "source": [
        "f= open(\"/content/A.txt\")\n",
        "f = open(\"/content/A.txt\", \"r\")\n",
        "print(f.read())\n",
        "\n"
      ],
      "metadata": {
        "colab": {
          "base_uri": "https://localhost:8080/"
        },
        "id": "nrA5hM7lTzHn",
        "outputId": "a5007f06-e5f3-456b-97dc-f3819a8d7b59"
      },
      "execution_count": null,
      "outputs": [
        {
          "output_type": "stream",
          "name": "stdout",
          "text": [
            "iahdahd\n"
          ]
        }
      ]
    },
    {
      "cell_type": "code",
      "source": [
        "f = open(\"/content/A.txt\", \"a\")\n",
        "f.write(\"write\")\n",
        "f.close()\n",
        "\n",
        "\n",
        "f = open(\"/content/A.txt\", \"r\")\n",
        "print(f.read())"
      ],
      "metadata": {
        "colab": {
          "base_uri": "https://localhost:8080/"
        },
        "id": "ry11d50dUK-Q",
        "outputId": "93f0bf25-76b8-4666-e7d9-6cdede5d7373"
      },
      "execution_count": null,
      "outputs": [
        {
          "output_type": "stream",
          "name": "stdout",
          "text": [
            "iahdahdwritewrite\n"
          ]
        }
      ]
    }
  ]
}